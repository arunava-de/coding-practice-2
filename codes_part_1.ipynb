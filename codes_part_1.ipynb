{
 "cells": [
  {
   "cell_type": "markdown",
   "id": "failing-activity",
   "metadata": {},
   "source": [
    "## BST"
   ]
  },
  {
   "cell_type": "code",
   "execution_count": null,
   "id": "arctic-oxygen",
   "metadata": {},
   "outputs": [],
   "source": [
    "class Node:\n",
    "\n",
    "    def __init__(self, v, l=None, r=None):\n",
    "        self.left = l\n",
    "        self.right = r\n",
    "        self.val = v"
   ]
  },
  {
   "cell_type": "code",
   "execution_count": 33,
   "id": "nearby-unknown",
   "metadata": {},
   "outputs": [],
   "source": [
    "def inorder(root):\n",
    "    if root == None:\n",
    "        return \"\"\n",
    "    if root.left == None and root.right == None:\n",
    "        return \"(\" + str(root.val) + \")\"\n",
    "    return \"(\" + inorder(root.left) + str(root.val) + inorder(root.right) + \")\"\n",
    "\n",
    "def preorder(root):\n",
    "    if root == None:\n",
    "        return \"\"\n",
    "    if root.left == None and root.right == None:\n",
    "        return \"(\" + str(root.val) + \")\"\n",
    "    return \"(\" + str(root.val) + inorder(root.left) + inorder(root.right) + \")\"\n",
    "\n",
    "def postorder(root):\n",
    "    if root == None:\n",
    "        return \"\"\n",
    "    if root.left == None and root.right == None:\n",
    "        return \"(\" + str(root.val) + \")\"\n",
    "    return \"(\" + inorder(root.left) + inorder(root.right) +  str(root.val) + \")\""
   ]
  },
  {
   "cell_type": "code",
   "execution_count": 102,
   "id": "center-oasis",
   "metadata": {},
   "outputs": [],
   "source": [
    "tree = Node(2)\n",
    "tree.right = Node(5)\n",
    "tree.left = Node(0)\n",
    "tree.right.right = Node(6)\n",
    "tree.right.left = Node(4)"
   ]
  },
  {
   "cell_type": "code",
   "execution_count": 103,
   "id": "valued-classification",
   "metadata": {},
   "outputs": [
    {
     "data": {
      "text/plain": [
       "'((0)2((4)5(6)))'"
      ]
     },
     "execution_count": 103,
     "metadata": {},
     "output_type": "execute_result"
    }
   ],
   "source": [
    "inorder(tree)"
   ]
  },
  {
   "cell_type": "code",
   "execution_count": 95,
   "id": "inner-muscle",
   "metadata": {},
   "outputs": [],
   "source": [
    "def search(root, key):\n",
    "    if root.val == key:\n",
    "        return root\n",
    "    else:\n",
    "        if key>root.val:\n",
    "            return search(root.right, key)\n",
    "        else:\n",
    "            return search(root.left, key)"
   ]
  },
  {
   "cell_type": "code",
   "execution_count": 96,
   "id": "greek-fashion",
   "metadata": {},
   "outputs": [],
   "source": [
    "def insert(root, key):\n",
    "    if root == None:\n",
    "        return Node(key)\n",
    "    if key<root.val:\n",
    "        root.left =  insert(root.left, key)\n",
    "    else:\n",
    "        root.right =  insert(root.right, key)\n",
    "    return root"
   ]
  },
  {
   "cell_type": "code",
   "execution_count": 104,
   "id": "floppy-currency",
   "metadata": {},
   "outputs": [
    {
     "data": {
      "text/plain": [
       "<__main__.Node at 0x7fe70801b430>"
      ]
     },
     "execution_count": 104,
     "metadata": {},
     "output_type": "execute_result"
    }
   ],
   "source": [
    "insert(tree, 1)"
   ]
  },
  {
   "cell_type": "code",
   "execution_count": 105,
   "id": "driven-collection",
   "metadata": {},
   "outputs": [
    {
     "data": {
      "text/plain": [
       "'((0(1))2((4)5(6)))'"
      ]
     },
     "execution_count": 105,
     "metadata": {},
     "output_type": "execute_result"
    }
   ],
   "source": [
    "inorder(tree)"
   ]
  },
  {
   "cell_type": "code",
   "execution_count": 66,
   "id": "grand-gentleman",
   "metadata": {},
   "outputs": [],
   "source": [
    "def minLeaf(root):\n",
    "    while root.left!=None:\n",
    "        root = root.left\n",
    "    return root"
   ]
  },
  {
   "cell_type": "code",
   "execution_count": 68,
   "id": "wound-application",
   "metadata": {},
   "outputs": [
    {
     "data": {
      "text/plain": [
       "0"
      ]
     },
     "execution_count": 68,
     "metadata": {},
     "output_type": "execute_result"
    }
   ],
   "source": [
    "minLeaf(tree).val"
   ]
  },
  {
   "cell_type": "code",
   "execution_count": 107,
   "id": "european-complement",
   "metadata": {},
   "outputs": [],
   "source": [
    "def delete(root, key):\n",
    "    if root==None: # Nothing to delete\n",
    "        return root\n",
    "    if key<root.val:\n",
    "        root.left = delete(root.left, key)\n",
    "    elif key>root.val:\n",
    "        root.right = delete(root.right, key)\n",
    "    else: # We're at the node we want to delete\n",
    "        if root.left == None:\n",
    "            successor = root.right\n",
    "            root = None\n",
    "            return successor \n",
    "        if root.right == None:\n",
    "            successor = root.left\n",
    "            root = None \n",
    "            return successor\n",
    "        # Both left and right child are present\n",
    "        \n",
    "        successor = minLeaf(root.right)\n",
    "        root.val = successor.val\n",
    "        root.right = delete(root.right, successor.val)\n",
    "    return root\n",
    "    \n",
    "    "
   ]
  },
  {
   "cell_type": "code",
   "execution_count": 108,
   "id": "organized-angle",
   "metadata": {},
   "outputs": [
    {
     "data": {
      "text/plain": [
       "<__main__.Node at 0x7fe70801b430>"
      ]
     },
     "execution_count": 108,
     "metadata": {},
     "output_type": "execute_result"
    }
   ],
   "source": [
    "delete(tree, 4)"
   ]
  },
  {
   "cell_type": "code",
   "execution_count": 109,
   "id": "subtle-celtic",
   "metadata": {},
   "outputs": [
    {
     "data": {
      "text/plain": [
       "'((0(1))2(5(6)))'"
      ]
     },
     "execution_count": 109,
     "metadata": {},
     "output_type": "execute_result"
    }
   ],
   "source": [
    "inorder(tree)"
   ]
  },
  {
   "cell_type": "markdown",
   "id": "alleged-serve",
   "metadata": {},
   "source": [
    "## Permutations"
   ]
  },
  {
   "cell_type": "code",
   "execution_count": 13,
   "id": "plain-palace",
   "metadata": {},
   "outputs": [],
   "source": [
    "def interleave(a, l):\n",
    "    res = []\n",
    "#     print(a,l)\n",
    "    res.append([a]+l)\n",
    "\n",
    "    for i in range(1,len(l)):\n",
    "        res.append(l[:i] + [a] + l[i:])\n",
    "    \n",
    "    res.append(l+[a])\n",
    "\n",
    "    return res\n",
    "\n",
    "def permute(nums):\n",
    "    if len(nums)==1:\n",
    "        return [[nums[0]]]\n",
    "    else:\n",
    "        res_temp = []\n",
    "        for p in permute(nums[1:]):\n",
    "\n",
    "            res_temp += interleave(nums[0],p)\n",
    "        return res_temp\n",
    "\n"
   ]
  },
  {
   "cell_type": "code",
   "execution_count": 27,
   "id": "downtown-prize",
   "metadata": {},
   "outputs": [],
   "source": [
    "def interleave_multi(a, l):\n",
    "    res = []\n",
    "    res.append(a+l)\n",
    "\n",
    "    for i in range(1,len(l)):\n",
    "        res.append(l[:i] + a + l[i:])\n",
    "    \n",
    "    res.append(l+a)\n",
    "\n",
    "    return res\n",
    "\n",
    "def permute_recur(nums):\n",
    "    if len(set(nums))==1:\n",
    "        return [nums]\n",
    "    else:\n",
    "        res_temp = []\n",
    "        i = 0\n",
    "        while nums[i]==nums[i+1] and i<len(nums):\n",
    "            i += 1\n",
    "            # Going through duplicates\n",
    "        for p in permute(nums[i+1:]):\n",
    "            res_temp += interleave_multi(nums[:i+1],p)\n",
    "        return [i for n, i in enumerate(res_temp) if i not in res_temp[:n]] \n",
    "\n",
    "\n"
   ]
  },
  {
   "cell_type": "code",
   "execution_count": 28,
   "id": "coral-movement",
   "metadata": {},
   "outputs": [
    {
     "data": {
      "text/plain": [
       "[[1, 2, 3, 3],\n",
       " [2, 1, 3, 3],\n",
       " [2, 3, 1, 3],\n",
       " [2, 3, 3, 1],\n",
       " [1, 3, 2, 3],\n",
       " [3, 1, 2, 3],\n",
       " [3, 2, 1, 3],\n",
       " [3, 2, 3, 1],\n",
       " [1, 3, 3, 2],\n",
       " [3, 1, 3, 2],\n",
       " [3, 3, 1, 2],\n",
       " [3, 3, 2, 1]]"
      ]
     },
     "execution_count": 28,
     "metadata": {},
     "output_type": "execute_result"
    }
   ],
   "source": [
    "permute_recur([1,2,3,3])"
   ]
  },
  {
   "cell_type": "code",
   "execution_count": 22,
   "id": "romance-copper",
   "metadata": {},
   "outputs": [
    {
     "data": {
      "text/plain": [
       "[[3, 3, 1, 2], [1, 3, 3, 2], [1, 2, 3, 3]]"
      ]
     },
     "execution_count": 22,
     "metadata": {},
     "output_type": "execute_result"
    }
   ],
   "source": [
    "interleave_multi([3,3],[1,2])"
   ]
  },
  {
   "cell_type": "code",
   "execution_count": null,
   "id": "meaning-reception",
   "metadata": {},
   "outputs": [],
   "source": []
  },
  {
   "source": [
    "## Create BST from preorder and inorder"
   ],
   "cell_type": "markdown",
   "metadata": {}
  },
  {
   "cell_type": "code",
   "execution_count": 2,
   "metadata": {},
   "outputs": [],
   "source": [
    "class Node:\n",
    "\n",
    "    def __init__(self, l=None, r=None, v=None):\n",
    "        self.left = l\n",
    "        self.right = r\n",
    "        self.value = v"
   ]
  },
  {
   "cell_type": "code",
   "execution_count": 6,
   "metadata": {},
   "outputs": [],
   "source": [
    "def reconstruct_tree(pre_list, in_list):\n",
    "    if not in_list:\n",
    "        return\n",
    "    root = Node(None, None, pre_list.pop(0)) # First value always root\n",
    "    root_index = in_list.index(root.value) # Find position of root in the inorder traversal\n",
    "    root.left = reconstruct_tree(pre_list, in_list[:root_index]) # Left of root_index is left sub tree\n",
    "    root.right = reconstruct_tree(pre_list, in_list[root_index+1:]) # Right of root_index is right sub tree\n",
    "    return root "
   ]
  },
  {
   "cell_type": "code",
   "execution_count": 7,
   "metadata": {},
   "outputs": [],
   "source": [
    "pre_list = ['a', 'b', 'd', 'e', 'c', 'f', 'g']\n",
    "in_list = ['d', 'b', 'e', 'a', 'f', 'c', 'g']"
   ]
  },
  {
   "cell_type": "code",
   "execution_count": 8,
   "metadata": {},
   "outputs": [],
   "source": [
    "tree = reconstruct_tree(pre_list, in_list)"
   ]
  },
  {
   "cell_type": "code",
   "execution_count": 9,
   "metadata": {},
   "outputs": [
    {
     "output_type": "execute_result",
     "data": {
      "text/plain": [
       "<__main__.Node at 0x7ff0b9b93700>"
      ]
     },
     "metadata": {},
     "execution_count": 9
    }
   ],
   "source": [
    "tree"
   ]
  },
  {
   "cell_type": "code",
   "execution_count": 12,
   "metadata": {},
   "outputs": [
    {
     "output_type": "execute_result",
     "data": {
      "text/plain": [
       "'c'"
      ]
     },
     "metadata": {},
     "execution_count": 12
    }
   ],
   "source": [
    "tree.right.value"
   ]
  },
  {
   "source": [
    "## Max sum of contiguous subarray"
   ],
   "cell_type": "markdown",
   "metadata": {}
  },
  {
   "cell_type": "code",
   "execution_count": 13,
   "metadata": {},
   "outputs": [],
   "source": [
    "nums = [34, -50, 42, 14, -5, 86]"
   ]
  },
  {
   "cell_type": "code",
   "execution_count": null,
   "metadata": {},
   "outputs": [],
   "source": [
    "left = 0\n",
    "right = 1\n",
    "nums = [34, -50, 42, 14, -5, 86]\n",
    "max_sum = nums[left] + nums[right]\n",
    "\n",
    "while right<len(nums):\n",
    "    right += 1\n",
    "    if sum(nums[left:right])"
   ]
  },
  {
   "cell_type": "code",
   "execution_count": 15,
   "metadata": {},
   "outputs": [],
   "source": [
    "prefix_sums = [0]*len(nums)\n",
    "prefix_sums[0] = nums[0]\n",
    "\n",
    "for i in range(1,len(nums)):\n",
    "    prefix_sums[i] = prefix_sums[i-1] + nums[i]"
   ]
  },
  {
   "cell_type": "code",
   "execution_count": 16,
   "metadata": {},
   "outputs": [
    {
     "output_type": "execute_result",
     "data": {
      "text/plain": [
       "[34, -16, 26, 40, 35, 121]"
      ]
     },
     "metadata": {},
     "execution_count": 16
    }
   ],
   "source": [
    "prefix_sums"
   ]
  },
  {
   "cell_type": "code",
   "execution_count": 19,
   "metadata": {},
   "outputs": [
    {
     "output_type": "stream",
     "name": "stdout",
     "text": [
      "34 34\n-16 -16\n26 -16\n40 -16\n35 -16\n121 -16\n137\n"
     ]
    }
   ],
   "source": [
    "# Max subarray sum will be the max difference in this array, where larger element occurs after smaller\n",
    "\n",
    "min_nums = 10**6\n",
    "max_sum = -10**6\n",
    "\n",
    "for i in range(len(prefix_sums)):\n",
    "    if prefix_sums[i] < min_nums:\n",
    "        min_nums = prefix_sums[i]\n",
    "    \n",
    "    temp = prefix_sums[i] - min_nums\n",
    "    print(prefix_sums[i],min_nums)\n",
    "\n",
    "    if temp>max_sum:\n",
    "        max_sum = temp\n",
    "\n"
   ]
  },
  {
   "source": [
    "## Rotate a matrix by 90 degrees"
   ],
   "cell_type": "markdown",
   "metadata": {}
  },
  {
   "source": [
    "Idea is to first take transpose, then do a y-reflection"
   ],
   "cell_type": "markdown",
   "metadata": {}
  },
  {
   "cell_type": "code",
   "execution_count": 24,
   "metadata": {},
   "outputs": [
    {
     "output_type": "stream",
     "name": "stdout",
     "text": [
      "[[1, 4, 7], [2, 5, 8], [3, 6, 9]]\n"
     ]
    }
   ],
   "source": [
    "matrix = [[1,2,3],[4,5,6],[7,8,9]]\n",
    "\n",
    "n = len(matrix)\n",
    "\n",
    "# Take transpose\n",
    "for i in range(n):\n",
    "    for j in range(i+1,n):\n",
    "        matrix[i][j], matrix[j][i] = matrix[j][i], matrix[i][j]\n",
    "\n",
    "print(matrix)\n",
    "\n",
    "# Do y reflection\n",
    "for i in range(n):\n",
    "    matrix[i] = matrix[i][::-1]\n"
   ]
  },
  {
   "cell_type": "code",
   "execution_count": 25,
   "metadata": {},
   "outputs": [
    {
     "output_type": "execute_result",
     "data": {
      "text/plain": [
       "[[7, 4, 1], [8, 5, 2], [9, 6, 3]]"
      ]
     },
     "metadata": {},
     "execution_count": 25
    }
   ],
   "source": [
    "matrix\n"
   ]
  },
  {
   "source": [
    "## Group Anagrams"
   ],
   "cell_type": "markdown",
   "metadata": {}
  },
  {
   "source": [
    "We sort each string in strs and get a tuple. These tuples will be the keys for the dictionary"
   ],
   "cell_type": "markdown",
   "metadata": {}
  },
  {
   "cell_type": "code",
   "execution_count": 26,
   "metadata": {},
   "outputs": [],
   "source": [
    "strs = [\"eat\",\"tea\",\"tan\",\"ate\",\"nat\",\"bat\"]\n",
    "\n",
    "strs_sorted = [tuple(sorted(i)) for i in strs]"
   ]
  },
  {
   "cell_type": "code",
   "execution_count": 28,
   "metadata": {},
   "outputs": [],
   "source": [
    "sorted_dict = {}\n",
    "\n",
    "for i,s in enumerate(strs_sorted):\n",
    "    if s in sorted_dict.keys():\n",
    "        sorted_dict[s].append(i)\n",
    "    else:\n",
    "        sorted_dict[s] = [i]\n",
    "        "
   ]
  },
  {
   "cell_type": "code",
   "execution_count": 33,
   "metadata": {},
   "outputs": [],
   "source": [
    "res = []\n",
    "\n",
    "for s in sorted_dict.keys():\n",
    "    res = res + [[strs[i] for i in sorted_dict[s]]]"
   ]
  },
  {
   "cell_type": "code",
   "execution_count": 34,
   "metadata": {},
   "outputs": [
    {
     "output_type": "execute_result",
     "data": {
      "text/plain": [
       "[['eat', 'tea', 'ate'], ['tan', 'nat'], ['bat']]"
      ]
     },
     "metadata": {},
     "execution_count": 34
    }
   ],
   "source": [
    "res"
   ]
  },
  {
   "cell_type": "code",
   "execution_count": null,
   "metadata": {},
   "outputs": [],
   "source": []
  }
 ],
 "metadata": {
  "kernelspec": {
   "display_name": "Python 3",
   "language": "python",
   "name": "python3"
  },
  "language_info": {
   "codemirror_mode": {
    "name": "ipython",
    "version": 3
   },
   "file_extension": ".py",
   "mimetype": "text/x-python",
   "name": "python",
   "nbconvert_exporter": "python",
   "pygments_lexer": "ipython3",
   "version": "3.8.5-final"
  }
 },
 "nbformat": 4,
 "nbformat_minor": 5
}